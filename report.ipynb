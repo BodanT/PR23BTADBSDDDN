{
 "cells": [
  {
   "cell_type": "markdown",
   "id": "834c7532",
   "metadata": {},
   "source": [
    "# Končno porocilo o umorih v ZDA\n",
    "\n",
    "## Člani skupine\n",
    "\n",
    "- Bodan Temelkovski 63210463\n",
    "- Anastasija Djajkovska 63210409 \n",
    "- Bojan Spasovski 63210453\n",
    "- Dimitar Nakov 63210442\n",
    "- Danilo Djuric  63210410\n",
    "\n",
    "## Problem\n",
    "Naš cilj je natančneje raziskati umore v ZDA, ter raziskati okoliščine in zunanje dejavnike, ki vodijo do umorov in ali obstajajo povezave z načinom njihovega izvajanja.\n",
    "\n",
    "Za realizacijo našega cilja, smo si zastavili naslednja vprašanja:\n",
    "- Katera zvezna država ZDA ima največ umorov v splošnem?\n",
    "- Ali odstotek posedovanja orožja posamezne zvezne države vpliva na število umorov v tej zvezni državi?\n",
    "- Analiza karakteristik morilca in žrtev.\n",
    "- Katera okolščina največ pripelje do umorov in kakšno odnos sta imela morilec in žrtev?\n",
    "- Analiza razrešitev umora in ali tip agencije vpliva na razrešitvi umora?"
   ]
  },
  {
   "cell_type": "markdown",
   "id": "dd6cc80c",
   "metadata": {},
   "source": [
    "## Podatke\n",
    "Mi bomo uporabljali podatke o umorih v ZDA, populaciji v ZDA in posedovanju orožja v ZDA. Vse te podatki so že podani na “Kaggle” in “World population overview”.\n",
    "- USA Homicides 1976-2020:\n",
    "https://www.kaggle.com/datasets/stephanieblack1990/usa-homicides-19762020?select=SHR76_20StephanieBlack.xlsx\n",
    "- Guns per Capita 2023:\n",
    "https://worldpopulationreview.com/state-rankings/guns-per-capita\n",
    "- 2019 Census US Population Data By State:\n",
    "https://www.kaggle.com/datasets/peretzcohen/2019-census-us-population-data-by-state"
   ]
  },
  {
   "cell_type": "markdown",
   "id": "d9d936b9",
   "metadata": {},
   "source": [
    "## O predstavljenih podatkih\n",
    "V nadaljevanju so predstavljeni najpomembnejši in najzanimivejši rezultati, ki smo jih pridobili med analizo. Vendar smo med analizo odkrili in ugotovili še več stvari. Če želite videti tudi te rezultate in kode, ki smo mi uporabljali, vam priporočamo, da obiščete naslednjo povezavo:\n",
    "\n",
    "https://github.com/BodanT/PR23BTADBSDDDN/blob/main/Kod.ipynb"
   ]
  },
  {
   "cell_type": "markdown",
   "id": "3468fc78",
   "metadata": {},
   "source": [
    "### Žačeli bomo z analizo umorov v posamezni zvezni državi\n",
    "![alt text](./map_bez_na_glava_zitel.png)\n",
    "<br />\n",
    "Iz slike je očitno da največ umorov so v Kaliforniji, vendar če hočemo biti bolj natančne moramo preračunati število umorov na 100.000 prebivalcev."
   ]
  },
  {
   "cell_type": "markdown",
   "id": "e9dd059a",
   "metadata": {},
   "source": [
    "![alt text](./map_na_glava_zitel.png)\n",
    "<br />\n",
    "Ker iz te slike ne moremo ugotoviti katera država ima največ umorov, smo morali pogledati še en graf in smo ugotovili da ta država je \"District of Columbia\"."
   ]
  },
  {
   "cell_type": "markdown",
   "id": "11769cfd",
   "metadata": {},
   "source": [
    "### Ali lastništvo orožja vpliva na stopnjo umorov v posameznih državah?\n",
    "Najprej smo izračunali, katero orožje se najpogosteje uporablja pri umorih. Iz teh analiz, firearms so bili najštevilčnejši. Zato smo hoteli preveriti ali obstaja korelacija med število lastništva orožja in število umorov v posamezni državi. "
   ]
  },
  {
   "cell_type": "markdown",
   "id": "87f77d26",
   "metadata": {},
   "source": [
    "![alt text](./stevilo_posedovanosti.png)\n",
    "<br />\n",
    "Smo izdelali scatter plot, ki prikazuje povezavo med stopnjo lastništva orožja in številom umorov v posamezni državi. Na ta način smo želeli preučiti morebitno korelacijo med temi dvema spremenljivkama."
   ]
  },
  {
   "cell_type": "markdown",
   "id": "5b1623c5",
   "metadata": {},
   "source": [
    "![alt text](./guns_murder_scatter.png)\n",
    "<br />\n",
    "Na podlagi tega grafa lahko vidimo, da se točke grafa vzpenjajo linearno navzgor, kar kaže na pozitivno korelacijo med spremenljivkama. Iz tega lahko sklepamo, da obstaja povezava med številom umorov in lastništvom orožja. Da bi zagotovili natančnost naših ugotovitev, smo izračunali tudi korelacijski koeficient, ki znaša **0.7109630367945233**. To pomeni, da obstaja precej visoka korelacija med tema dvema."
   ]
  },
  {
   "cell_type": "markdown",
   "id": "871d3a9b",
   "metadata": {},
   "source": [
    "### Analiza karakteristik morilca in žrtev\n"
   ]
  },
  {
   "cell_type": "markdown",
   "id": "9d64c808",
   "metadata": {},
   "source": [
    "![alt text](./karakteristike_morilca.png)\n",
    "<br />\n",
    "Iz analize lahko vidimo, da je večina morilcev moških in zelo majhen odstotek žensk. Kar zadeva starostni razpon, vidimo, da je večina morilcev starih od 20 do 30 let in je majhen odstotek otrok med morilci od 0 do 10 let. Končno, rasa večine morilcev je tipično belci, ki jim tesno sledijo Afroameričani in velik upad Azijcev in drugih.\n"
   ]
  },
  {
   "cell_type": "markdown",
   "id": "6cf220b3",
   "metadata": {},
   "source": [
    "![alt text](./karakteristike_zrtev.png)\n",
    "\n",
    "Iz analize podatkov o žrtvah lahko vidimo, da je tako kot morilcev veliko število žrtev moških, medtem ko je žrtev žensk manj, a še vedno veliko. Kar zadeva starost žrtev, je najpogosteje od 20 do 30 let, medtem ko je zelo žalostna statistika število žrtev od 0 do 10 in 10 do 20 let. In končno, rasa žrtev je najpogosteje belci, zelo blizu pa jim sledijo Afroameričani."
   ]
  },
  {
   "cell_type": "markdown",
   "id": "fe207c25",
   "metadata": {},
   "source": [
    "### Katera okolščina največ pripelje do umorov in kakšen odnos sta imela morilec in žrtev?\n",
    "Pri analizi, smo prešteli umore pri posmaezni okolščini in hkrati smo pregledali kakšen je bil odnos med \n",
    "udeleženci umora."
   ]
  },
  {
   "cell_type": "markdown",
   "id": "eec08c77",
   "metadata": {},
   "source": [
    "\n",
    "![alt text](./relationship+circumstance.png)\n",
    "<br />\n",
    "Iz grafa lahko sklepamo da \"Other-Arguments\" (prepir) največ pripelje do umorov. Pri tem, najpogostejši odnos med morilcem in žrtvo je \"Acquaintance\" oziroma znanec."
   ]
  },
  {
   "cell_type": "markdown",
   "id": "7efc323a",
   "metadata": {},
   "source": [
    "### Analiza razrešitev umora in tip agencije\n",
    "Za vasko agencijo, ki je obdelavala umor, smo prešteli koliko umorov je razrešila, a koliko ne."
   ]
  },
  {
   "cell_type": "markdown",
   "id": "4a85c523",
   "metadata": {},
   "source": [
    "![alt text](./agency.png)\n",
    "<br />"
   ]
  },
  {
   "cell_type": "markdown",
   "id": "295bc6ed",
   "metadata": {},
   "source": [
    "Iz slike lahko sklepamo, da je bila večina umorov rešenih."
   ]
  }
 ],
 "metadata": {
  "kernelspec": {
   "display_name": "Python 3 (ipykernel)",
   "language": "python",
   "name": "python3"
  },
  "language_info": {
   "codemirror_mode": {
    "name": "ipython",
    "version": 3
   },
   "file_extension": ".py",
   "mimetype": "text/x-python",
   "name": "python",
   "nbconvert_exporter": "python",
   "pygments_lexer": "ipython3",
   "version": "3.10.11"
  }
 },
 "nbformat": 4,
 "nbformat_minor": 5
}
